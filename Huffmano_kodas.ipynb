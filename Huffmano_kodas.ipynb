{
 "cells": [
  {
   "cell_type": "code",
   "execution_count": 1,
   "metadata": {},
   "outputs": [],
   "source": [
    "import numpy as np"
   ]
  },
  {
   "cell_type": "markdown",
   "metadata": {},
   "source": [
    "### Duomenų nuskaitymas"
   ]
  },
  {
   "cell_type": "code",
   "execution_count": 2,
   "metadata": {},
   "outputs": [
    {
     "name": "stdout",
     "output_type": "stream",
     "text": [
      "This is an example of a Huffman code.\n"
     ]
    }
   ],
   "source": [
    "f = open(\"Huffman test.txt\", \"r\")\n",
    "duom = f.read()\n",
    "print(duom)"
   ]
  },
  {
   "cell_type": "markdown",
   "metadata": {},
   "source": [
    "### Medžio atšakų kūrimas"
   ]
  },
  {
   "cell_type": "code",
   "execution_count": 3,
   "metadata": {},
   "outputs": [],
   "source": [
    "class NodeTree(object):\n",
    "\n",
    "    def __init__(self, left=None, right=None):\n",
    "        self.left = left\n",
    "        self.right = right\n",
    "\n",
    "    def children(self):\n",
    "        return (self.left, self.right)\n",
    "\n",
    "    def nodes(self):\n",
    "        return (self.left, self.right)\n",
    "\n",
    "    def __str__(self):\n",
    "        return '%s_%s' % (self.left, self.right)"
   ]
  },
  {
   "cell_type": "markdown",
   "metadata": {},
   "source": [
    "### Huffmano kodo funkcija"
   ]
  },
  {
   "cell_type": "code",
   "execution_count": 5,
   "metadata": {},
   "outputs": [],
   "source": [
    "def huffman_code_tree(node, left=True, binString=''):\n",
    "    if type(node) is str:\n",
    "        return {node: binString}\n",
    "    (l, r) = node.children()\n",
    "    d = dict()\n",
    "    d.update(huffman_code_tree(l, True, binString + '0'))\n",
    "    d.update(huffman_code_tree(r, False, binString + '1'))\n",
    "    return d"
   ]
  },
  {
   "cell_type": "markdown",
   "metadata": {},
   "source": [
    "### Simbolių svorių skaičiavimas"
   ]
  },
  {
   "cell_type": "code",
   "execution_count": 6,
   "metadata": {},
   "outputs": [],
   "source": [
    "svoris = {}\n",
    "for c in duom:\n",
    "    if c in svoris:\n",
    "        svoris[c] += 1\n",
    "    else:\n",
    "        svoris[c] = 1\n",
    "\n",
    "svoris = sorted(svoris.items(), key=lambda x: x[1], reverse=True)\n",
    "\n",
    "nodes = svoris\n",
    "\n",
    "while len(nodes) > 1:\n",
    "    (key1, c1) = nodes[-1]\n",
    "    (key2, c2) = nodes[-2]\n",
    "    nodes = nodes[:-2]\n",
    "    node = NodeTree(key1, key2)\n",
    "    nodes.append((node, c1 + c2))\n",
    "\n",
    "    nodes = sorted(nodes, key=lambda x: x[1], reverse=True)\n",
    "\n",
    "huffmanCode = huffman_code_tree(nodes[0][0])"
   ]
  },
  {
   "cell_type": "markdown",
   "metadata": {},
   "source": [
    "### Simbolių kodų lentelė"
   ]
  },
  {
   "cell_type": "code",
   "execution_count": 7,
   "metadata": {},
   "outputs": [
    {
     "name": "stdout",
     "output_type": "stream",
     "text": [
      " Char | Huffman code \n",
      "----------------------\n",
      " ' '  |         111\n",
      " 'a'  |         001\n",
      " 'e'  |        1101\n",
      " 'f'  |        1100\n",
      " 'i'  |        1001\n",
      " 's'  |        1000\n",
      " 'n'  |        1011\n",
      " 'm'  |        1010\n",
      " 'o'  |        0101\n",
      " 'T'  |       00001\n",
      " 'h'  |       00000\n",
      " 'x'  |       00011\n",
      " 'p'  |       00010\n",
      " 'l'  |       01101\n",
      " 'H'  |       01100\n",
      " 'u'  |       01111\n",
      " 'c'  |       01110\n",
      " 'd'  |       01001\n",
      " '.'  |       01000\n"
     ]
    }
   ],
   "source": [
    "print(' Char | Huffman code ')\n",
    "print('----------------------')\n",
    "kodai = []\n",
    "for (char, frequency) in svoris:\n",
    "    kodai.append([char,huffmanCode[char]])\n",
    "    print(' %-4r |%12s' % (char, huffmanCode[char]))"
   ]
  },
  {
   "cell_type": "markdown",
   "metadata": {},
   "source": [
    "### Bitų kiekis Huffmano kodu"
   ]
  },
  {
   "cell_type": "code",
   "execution_count": 8,
   "metadata": {},
   "outputs": [
    {
     "data": {
      "text/plain": [
       "147"
      ]
     },
     "execution_count": 8,
     "metadata": {},
     "output_type": "execute_result"
    }
   ],
   "source": [
    "bit=0\n",
    "for (a,b) in svoris:\n",
    "    bit=bit+(huffmanCode[a].count('')-1)*b\n",
    "bit"
   ]
  },
  {
   "cell_type": "markdown",
   "metadata": {},
   "source": [
    "### Bitų kiekis standartiniu kodu"
   ]
  },
  {
   "cell_type": "code",
   "execution_count": 9,
   "metadata": {},
   "outputs": [
    {
     "data": {
      "text/plain": [
       "185"
      ]
     },
     "execution_count": 9,
     "metadata": {},
     "output_type": "execute_result"
    }
   ],
   "source": [
    "stbit=0\n",
    "stbit_=[]\n",
    "for (a,b) in svoris:\n",
    "    stbit_.append(huffmanCode[a].count('')-1)\n",
    "for (a,b) in svoris:\n",
    "    stbit=stbit+(max(stbit_))*b\n",
    "stbit"
   ]
  },
  {
   "cell_type": "markdown",
   "metadata": {},
   "source": [
    "### Sutaupomas bitų kiekis"
   ]
  },
  {
   "cell_type": "code",
   "execution_count": 10,
   "metadata": {},
   "outputs": [
    {
     "data": {
      "text/plain": [
       "38"
      ]
     },
     "execution_count": 10,
     "metadata": {},
     "output_type": "execute_result"
    }
   ],
   "source": [
    "stbit-bit"
   ]
  },
  {
   "cell_type": "markdown",
   "metadata": {},
   "source": [
    "### Užšifruotas tekstas"
   ]
  },
  {
   "cell_type": "code",
   "execution_count": 11,
   "metadata": {},
   "outputs": [
    {
     "name": "stdout",
     "output_type": "stream",
     "text": [
      "000010000010011000111100110001110011011111110100011001101000010011011101111010111001110011110110001111110011001010001101111101110010101001110101000\n"
     ]
    }
   ],
   "source": [
    "sifras = str()\n",
    "for c in duom:\n",
    "    sifras = sifras + huffmanCode[c]\n",
    "print(sifras)"
   ]
  },
  {
   "cell_type": "markdown",
   "metadata": {},
   "source": [
    "### Kodo tikrinimas"
   ]
  },
  {
   "cell_type": "code",
   "execution_count": 12,
   "metadata": {},
   "outputs": [
    {
     "name": "stdout",
     "output_type": "stream",
     "text": [
      "This is an example of a Huffman code.\n"
     ]
    }
   ],
   "source": [
    "atkod = str()\n",
    "atkodT = str()\n",
    "for c in sifras:\n",
    "    atkod = atkod + c\n",
    "    for c1 in range(0,len((kodai[:][:]))):\n",
    "        if atkod == kodai[c1][1]:\n",
    "            atkodT = atkodT + kodai[c1][0]\n",
    "            atkod = \"\"\n",
    "print(atkodT)"
   ]
  },
  {
   "cell_type": "code",
   "execution_count": null,
   "metadata": {},
   "outputs": [],
   "source": []
  }
 ],
 "metadata": {
  "kernelspec": {
   "display_name": "Python 3",
   "language": "python",
   "name": "python3"
  },
  "language_info": {
   "codemirror_mode": {
    "name": "ipython",
    "version": 3
   },
   "file_extension": ".py",
   "mimetype": "text/x-python",
   "name": "python",
   "nbconvert_exporter": "python",
   "pygments_lexer": "ipython3",
   "version": "3.8.5"
  }
 },
 "nbformat": 4,
 "nbformat_minor": 4
}
