{
 "cells": [
  {
   "cell_type": "code",
   "execution_count": 36,
   "id": "93040e63-6ff9-4a7a-aa0c-af25642c8b10",
   "metadata": {
    "scrolled": true
   },
   "outputs": [],
   "source": [
    "required_packages <- c(\n",
    "  \"forecast\",       # ARIMAX modeling\n",
    "  \"dplyr\",          # Data manipulation\n",
    "  \"tidyr\",          # pivot_wider/pivot_longer\n",
    "  \"prophet\",        # xreg forecasting\n",
    "  \"thief\",          # h\n",
    "  \"TSrepr\",         # Errors\n",
    "  \"progress\",\n",
    "  \"doParallel\",\n",
    "  \"foreach\",\n",
    "  \"vars\",\n",
    "  \"lmtest\",\n",
    "  \"tseries\"\n",
    ")\n",
    "\n",
    "# Install missing packages\n",
    "new_packages <- required_packages[!required_packages %in% installed.packages()[,\"Package\"]]\n",
    "if(length(new_packages)) install.packages(new_packages)\n",
    "\n",
    "# Load all packages\n",
    "invisible(lapply(required_packages, library, character.only = TRUE))"
   ]
  },
  {
   "cell_type": "code",
   "execution_count": 37,
   "id": "630e5556-eaa8-4d2f-8e64-a14fb54de0c6",
   "metadata": {},
   "outputs": [],
   "source": [
    "sales <- read.csv(\"sales_train_validation.csv\", stringsAsFactors = FALSE)\n",
    "calendar <- read.csv(\"calendar.csv\", stringsAsFactors = FALSE)"
   ]
  },
  {
   "cell_type": "code",
   "execution_count": 38,
   "id": "95010132-3295-4a75-9d12-8d6b99830a1d",
   "metadata": {},
   "outputs": [],
   "source": [
    "calendar <- calendar %>%\n",
    "  mutate(\n",
    "    date = as.Date(date),\n",
    "    is_holiday = 0  # Initialize all as 0 (not holidays)\n",
    "  )\n",
    "\n",
    "# Loop through each row (day) and check if it has any holiday-related events\n",
    "for (i in 1:nrow(calendar)) {\n",
    "  if (calendar$event_name_1[i] != \"\" | calendar$event_type_1[i] != \"\" |\n",
    "      calendar$event_name_2[i] != \"\" | calendar$event_type_2[i] != \"\") {\n",
    "    calendar$is_holiday[i] <- 1  # Set is_holiday to 1 if there's any event\n",
    "  }\n",
    "}"
   ]
  },
  {
   "cell_type": "code",
   "execution_count": 39,
   "id": "98df56d9-45e8-4112-a1f9-8c5c93be5915",
   "metadata": {},
   "outputs": [
    {
     "ename": "ERROR",
     "evalue": "Error in select(., row_id, dept_id): unused arguments (row_id, dept_id)\n",
     "output_type": "error",
     "traceback": [
      "Error in select(., row_id, dept_id): unused arguments (row_id, dept_id)\nTraceback:\n",
      "1. .handleSimpleError(function (cnd) \n . {\n .     watcher$capture_plot_and_output()\n .     cnd <- sanitize_call(cnd)\n .     watcher$push(cnd)\n .     switch(on_error, continue = invokeRestart(\"eval_continue\"), \n .         stop = invokeRestart(\"eval_stop\"), error = NULL)\n . }, \"unused arguments (row_id, dept_id)\", base::quote(select(., \n .     row_id, dept_id)))"
     ]
    }
   ],
   "source": [
    "sales <- sales %>% mutate(row_id = row_number())\n",
    "item_metadata <- sales %>% select(row_id, dept_id)\n",
    "sales_long <- sales %>%\n",
    "  select(row_id, starts_with(\"d_\")) %>%\n",
    "  pivot_longer(cols = starts_with(\"d_\"), names_to = \"day\", values_to = \"value\")"
   ]
  },
  {
   "cell_type": "code",
   "execution_count": null,
   "id": "f85199ce-71a9-4282-ba7a-4f2325d09149",
   "metadata": {},
   "outputs": [],
   "source": [
    "dept_sales <- sales_long %>%\n",
    "  left_join(calendar %>% select(day = d, date), by = \"day\") %>%\n",
    "  left_join(item_metadata, by = \"row_id\") %>%\n",
    "  group_by(date, dept_id) %>%\n",
    "  summarise(dept_sales = sum(value, na.rm = TRUE), .groups = \"drop\") %>%\n",
    "  pivot_wider(\n",
    "    names_from = dept_id,\n",
    "    values_from = dept_sales,\n",
    "    values_fill = 0\n",
    "  ) %>%\n",
    "  arrange(date)"
   ]
  },
  {
   "cell_type": "code",
   "execution_count": null,
   "id": "0d7cfb94-6cc2-46a5-88f6-58cd36f52d5b",
   "metadata": {},
   "outputs": [],
   "source": [
    "sales_with_categories <- sales %>%\n",
    "  mutate(\n",
    "    row_id = row_number(),\n",
    "    category = case_when(\n",
    "      grepl(\"^FOODS\", item_id) ~ \"FOODS\",\n",
    "      grepl(\"^HOBBIES\", item_id) ~ \"HOBBIES\",\n",
    "      grepl(\"^HOUSEHOLD\", item_id) ~ \"HOUSEHOLD\",\n",
    "      TRUE ~ \"OTHER\"\n",
    "    )\n",
    "  ) %>%\n",
    "  filter(category != \"OTHER\")"
   ]
  },
  {
   "cell_type": "code",
   "execution_count": null,
   "id": "bb68f477-781e-4a4b-9203-901689025a17",
   "metadata": {},
   "outputs": [],
   "source": [
    "category_sales <- sales_with_categories %>%\n",
    "  select(row_id, category, starts_with(\"d_\")) %>%\n",
    "  pivot_longer(cols = starts_with(\"d_\"), names_to = \"day\", values_to = \"value\")"
   ]
  },
  {
   "cell_type": "code",
   "execution_count": null,
   "id": "4a56e64f-ef0c-45aa-bc94-7587e22bda17",
   "metadata": {},
   "outputs": [],
   "source": [
    "category_sales_aggregated <- category_sales %>%\n",
    "  left_join(calendar %>% select(day = d, date), by = \"day\") %>%\n",
    "  group_by(date, category) %>%\n",
    "  summarise(category_sales = sum(value, na.rm = TRUE), .groups = \"drop\") %>%\n",
    "  pivot_wider(\n",
    "    names_from = category,\n",
    "    values_from = category_sales,\n",
    "    values_fill = 0\n",
    "  ) %>%\n",
    "  arrange(date)"
   ]
  },
  {
   "cell_type": "code",
   "execution_count": null,
   "id": "be14c583-ad07-4d8a-ad3f-ee96956f111d",
   "metadata": {},
   "outputs": [],
   "source": [
    "# Future regressors (from external file)\n",
    "future_regressors <- read.csv(\"prognozes_isplestos_platus.csv\")"
   ]
  },
  {
   "cell_type": "code",
   "execution_count": null,
   "id": "19c4d0bd-9193-4e32-aedd-1a6e4f73181c",
   "metadata": {},
   "outputs": [],
   "source": [
    "last_train_date <- as.Date(\"2016-04-24\")  # Last day of training data in M5\n",
    "first_forecast_date <- last_train_date + 1"
   ]
  },
  {
   "cell_type": "code",
   "execution_count": null,
   "id": "8e7a5289-1db6-4abd-b418-0bd8eff72b7f",
   "metadata": {},
   "outputs": [],
   "source": [
    "level9_sales <- sales %>%\n",
    "  group_by(store_id, dept_id, cat_id) %>%\n",
    "  summarise(across(starts_with(\"d_\"), sum), .groups = \"drop\") %>%\n",
    "  pivot_longer(starts_with(\"d_\"), names_to = \"day\", values_to = \"sales\") %>%\n",
    "  left_join(calendar %>% select(day = d, date), by = \"day\") %>%\n",
    "  filter(date <= last_train_date)  # Critical: only training period"
   ]
  },
  {
   "cell_type": "code",
   "execution_count": 40,
   "id": "b696090d-77ae-4557-9479-783bd49b0714",
   "metadata": {},
   "outputs": [
    {
     "name": "stderr",
     "output_type": "stream",
     "text": [
      "Warning message in adf.test(ts(x1$sales)):\n",
      "“p-value smaller than printed p-value”\n"
     ]
    },
    {
     "data": {
      "text/plain": [
       "\n",
       "\tAugmented Dickey-Fuller Test\n",
       "\n",
       "data:  ts(x1$sales)\n",
       "Dickey-Fuller = -6.4361, Lag order = 12, p-value = 0.01\n",
       "alternative hypothesis: stationary\n"
      ]
     },
     "metadata": {},
     "output_type": "display_data"
    },
    {
     "name": "stderr",
     "output_type": "stream",
     "text": [
      "Warning message in adf.test(ts(x2$sales)):\n",
      "“p-value smaller than printed p-value”\n"
     ]
    },
    {
     "data": {
      "text/plain": [
       "\n",
       "\tAugmented Dickey-Fuller Test\n",
       "\n",
       "data:  ts(x2$sales)\n",
       "Dickey-Fuller = -5.4176, Lag order = 12, p-value = 0.01\n",
       "alternative hypothesis: stationary\n"
      ]
     },
     "metadata": {},
     "output_type": "display_data"
    }
   ],
   "source": [
    "x1 = level9_sales %>%\n",
    "    filter(store_id == \"CA_1\",\n",
    "           dept_id == \"FOODS_1\") %>%\n",
    "    arrange(date)\n",
    "adf.test(ts(x1$sales))\n",
    "\n",
    "x2 = level9_sales %>%\n",
    "    filter(store_id == \"TX_2\",\n",
    "           dept_id == \"HOUSEHOLD_2\") %>%\n",
    "    arrange(date)\n",
    "adf.test(ts(x2$sales))"
   ]
  },
  {
   "cell_type": "code",
   "execution_count": 29,
   "id": "84c988a1-40f3-483c-a81c-5cc7b047d4ee",
   "metadata": {},
   "outputs": [
    {
     "ename": "ERROR",
     "evalue": "Error in select(., date, is_holiday): unused arguments (date, is_holiday)\n",
     "output_type": "error",
     "traceback": [
      "Error in select(., date, is_holiday): unused arguments (date, is_holiday)\nTraceback:\n",
      "1. replace(., is.na(.), 0)",
      "2. left_join(., level9_sales %>% group_by(date, cat_id) %>% summarise(cat_sales = sum(sales), \n .     .groups = \"drop\") %>% pivot_wider(names_from = cat_id, values_from = cat_sales), \n .     by = \"date\")",
      "3. left_join(., level9_sales %>% group_by(date, dept_id) %>% summarise(dept_sales = sum(sales), \n .     .groups = \"drop\") %>% pivot_wider(names_from = dept_id, values_from = dept_sales), \n .     by = \"date\")",
      "4. .handleSimpleError(function (cnd) \n . {\n .     watcher$capture_plot_and_output()\n .     cnd <- sanitize_call(cnd)\n .     watcher$push(cnd)\n .     switch(on_error, continue = invokeRestart(\"eval_continue\"), \n .         stop = invokeRestart(\"eval_stop\"), error = NULL)\n . }, \"unused arguments (date, is_holiday)\", base::quote(select(., \n .     date, is_holiday)))"
     ]
    }
   ],
   "source": [
    "historical_regressors <- calendar %>%\n",
    "  filter(date <= last_train_date) %>%  # Only historical dates\n",
    "  select(date, is_holiday) %>%\n",
    "  left_join(\n",
    "    level9_sales %>%\n",
    "      group_by(date, dept_id) %>%\n",
    "      summarise(dept_sales = sum(sales), .groups = \"drop\") %>%\n",
    "      pivot_wider(names_from = dept_id, values_from = dept_sales),\n",
    "    by = \"date\"\n",
    "  ) %>%\n",
    "  left_join(\n",
    "    level9_sales %>%\n",
    "      group_by(date, cat_id) %>%\n",
    "      summarise(cat_sales = sum(sales), .groups = \"drop\") %>%\n",
    "      pivot_wider(names_from = cat_id, values_from = cat_sales),\n",
    "    by = \"date\"\n",
    "  ) %>%\n",
    "  replace(is.na(.), 0)"
   ]
  },
  {
   "cell_type": "code",
   "execution_count": 43,
   "id": "f9cc792b-a34a-44ef-9ad1-b775c450f078",
   "metadata": {},
   "outputs": [],
   "source": [
    "forecast_state_item <- function(item_data, store_id, dept_id, cat_id) {\n",
    "  ts_data <- ts(item_data$sales, frequency = 7)\n",
    "  \n",
    "  # Historical regressors (training period only)\n",
    "  xreg_hist <- historical_regressors %>%\n",
    "    filter(date %in% item_data$date) %>%\n",
    "    select(is_holiday, all_of(dept_id), all_of(cat_id)) %>% #select(is_holiday, all_of(dept_id), all_of(cat_id)) %>%\n",
    "    as.matrix()\n",
    "  \n",
    "  # Future regressors (forecast period only)\n",
    "  xreg_future <- future_regressors %>%\n",
    "    select(is_holiday, all_of(dept_id), all_of(cat_id)) %>% #select(is_holiday, all_of(dept_id), all_of(cat_id)) %>%\n",
    "    as.matrix()\n",
    "  \n",
    "  # Model fitting and forecasting (same as before)\n",
    "  fit <- tryCatch({\n",
    "    auto.arima(ts_data, xreg = xreg_hist, lambda = 0, biasadj = TRUE, seasonal = TRUE,\n",
    "               stepwise = TRUE, approximation = TRUE)\n",
    "  }, error = function(e) {\n",
    "    Arima(ts_data, order = c(1,1,1), seasonal = c(0,1,1), xreg = xreg_hist)\n",
    "  })\n",
    "  \n",
    "  fc <- if (\"xreg\" %in% names(fit$call)) {\n",
    "    forecast(fit, h = 28, xreg = xreg_future)\n",
    "  } else {\n",
    "    forecast(fit, h = 28)\n",
    "  }\n",
    "  \n",
    "  data.frame(\n",
    "    store_id = store_id,\n",
    "    dept_id = dept_id,\n",
    "    date = seq(max(item_data$date) + 1, length.out = 28, by = \"day\"),\n",
    "    forecast = as.numeric(fc$mean),\n",
    "    stringsAsFactors = FALSE\n",
    "  )\n",
    "}"
   ]
  },
  {
   "cell_type": "code",
   "execution_count": 44,
   "id": "8c125b5f-e814-487c-9c4a-e129360f8985",
   "metadata": {},
   "outputs": [],
   "source": [
    "unique_items <- level9_sales %>%\n",
    "  distinct(store_id, dept_id, cat_id)\n",
    "\n",
    "cl <- makeCluster(min(4, detectCores() - 1))\n",
    "registerDoParallel(cl)\n",
    "\n",
    "level9_forecasts <- foreach(\n",
    "  i = 1:nrow(unique_items),\n",
    "  .combine = rbind,\n",
    "  .packages = c(\"dplyr\", \"forecast\")\n",
    ") %dopar% {\n",
    "  item <- unique_items[i, ]\n",
    "  item_data <- level9_sales %>%\n",
    "    filter(store_id == item$store_id,\n",
    "           dept_id == item$dept_id) %>%\n",
    "    arrange(date)\n",
    "  \n",
    "  if (nrow(item_data) < 56) return(NULL)\n",
    "  \n",
    "  forecast_state_item(\n",
    "    item_data,\n",
    "    store_id = item$store_id,\n",
    "    dept_id = item$dept_id,\n",
    "    cat_id = item$cat_id\n",
    "  )\n",
    "}\n",
    "\n",
    "stopCluster(cl)"
   ]
  },
  {
   "cell_type": "code",
   "execution_count": 45,
   "id": "0a44a172-f6b4-4ce7-89d3-1bce10dec541",
   "metadata": {},
   "outputs": [],
   "source": [
    "# Convert to submission format\n",
    "submission <- level9_forecasts %>%\n",
    "  mutate(day = paste0(\"F\", rep(1:28, length.out = nrow(level9_forecasts)))) %>%\n",
    "  select(store_id, dept_id, day, forecast) %>%\n",
    "  pivot_wider(names_from = day, values_from = forecast)\n",
    "\n",
    "# Save to CSV\n",
    "write.csv(submission, \"submission_arimax9.csv\", row.names = FALSE)"
   ]
  },
  {
   "cell_type": "code",
   "execution_count": 54,
   "id": "45f67645-9d6e-49ef-95ae-dd12f903b9a3",
   "metadata": {},
   "outputs": [],
   "source": [
    "sales_out <- read.csv(\"sales_test_validation.csv\", stringsAsFactors = FALSE)\n",
    "stat_total <- read.csv(\"stat_total.csv\", stringsAsFactors = FALSE)\n",
    "forecasts <- read.csv(\"submission_arimax9.csv\", stringsAsFactors = FALSE)  # Your forecast file"
   ]
  },
  {
   "cell_type": "code",
   "execution_count": 55,
   "id": "afc4d1cf-829e-4bfb-97f9-43ba296737ee",
   "metadata": {},
   "outputs": [],
   "source": [
    "# Convert sales_out to long format\n",
    "actuals_long <- sales_out %>%\n",
    "  pivot_longer(\n",
    "    cols = starts_with(\"d_\"),\n",
    "    names_to = \"day\",\n",
    "    values_to = \"actual\"\n",
    "  ) %>%\n",
    "  mutate(\n",
    "    day_num = as.numeric(gsub(\"d_\", \"\", day)),\n",
    "    series_id = paste(store_id, dept_id, sep = \"_\")\n",
    "  )\n",
    "\n",
    "# Convert forecasts to long format\n",
    "forecasts_long <- forecasts %>%\n",
    "  pivot_longer(\n",
    "    cols = starts_with(\"F\"),\n",
    "    names_to = \"day\",\n",
    "    values_to = \"forecast\"\n",
    "  ) %>%\n",
    "  mutate(\n",
    "    day_num = as.numeric(gsub(\"F\", \"\", day)) + 1913,\n",
    "    series_id = paste(store_id, dept_id, sep = \"_\")\n",
    "  )"
   ]
  },
  {
   "cell_type": "code",
   "execution_count": 56,
   "id": "c4245467-a32b-46da-9fcf-5a85cc0fcafa",
   "metadata": {},
   "outputs": [],
   "source": [
    "weights <- stat_total %>%\n",
    "  mutate(\n",
    "    series_id = paste(store_id, dept_id, sep = \"_\"),\n",
    "    weight = dollar_sales/sum(dollar_sales)  # Normalize to create weights\n",
    "  ) %>%\n",
    "  select(series_id, weight)"
   ]
  },
  {
   "cell_type": "code",
   "execution_count": 57,
   "id": "d3ef6c95-ae23-4e66-9a48-c049f67120e6",
   "metadata": {},
   "outputs": [],
   "source": [
    "results <- actuals_long %>%\n",
    "  # Clean column names first\n",
    "  select(store_id, dept_id, day_num, actual, series_id) %>%\n",
    "  inner_join(\n",
    "    forecasts_long %>% \n",
    "      select(store_id, dept_id, day_num, forecast, series_id),\n",
    "    by = c(\"series_id\", \"day_num\"),\n",
    "    suffix = c(\"\", \".y\")\n",
    "  ) %>%\n",
    "  # Calculate scaling factors\n",
    "  group_by(series_id) %>%\n",
    "  mutate(\n",
    "    scale = mean(abs(diff(actual))),  # Scaling factor per series\n",
    "    scaled_error = (forecast - actual)/scale\n",
    "  ) %>%\n",
    "  ungroup()"
   ]
  },
  {
   "cell_type": "code",
   "execution_count": 58,
   "id": "fb068306-aba9-4bbf-8117-5204e242377f",
   "metadata": {},
   "outputs": [],
   "source": [
    "avg_scale <- mean(results$scale, na.rm = TRUE)\n",
    "results <- results %>%\n",
    "  mutate(scale = ifelse(scale == 0 | is.na(scale), avg_scale * 0.01, scale))"
   ]
  },
  {
   "cell_type": "code",
   "execution_count": 59,
   "id": "28f5410f-780c-4171-aa44-2974620f0d08",
   "metadata": {},
   "outputs": [],
   "source": [
    "results <- results %>%\n",
    "  mutate(scaled_error = ifelse(is.infinite(scaled_error), 0, scaled_error))"
   ]
  },
  {
   "cell_type": "code",
   "execution_count": 60,
   "id": "202fd2ff-1820-4f49-a74d-994c6d2ab1d8",
   "metadata": {},
   "outputs": [
    {
     "name": "stderr",
     "output_type": "stream",
     "text": [
      "Warning message in left_join(., weights, by = \"series_id\"):\n",
      "“\u001b[1m\u001b[22mDetected an unexpected many-to-many relationship between `x` and `y`.\n",
      "\u001b[36mℹ\u001b[39m Row 1 of `x` matches multiple rows in `y`.\n",
      "\u001b[36mℹ\u001b[39m Row 1 of `y` matches multiple rows in `x`.\n",
      "\u001b[36mℹ\u001b[39m If a many-to-many relationship is expected, set `relationship =\n",
      "  \"many-to-many\"` to silence this warning.”\n"
     ]
    },
    {
     "name": "stdout",
     "output_type": "stream",
     "text": [
      "[1] \"Final WRMSSE: 0.5404\"\n"
     ]
    }
   ],
   "source": [
    "wrmsse <- results %>%\n",
    "  left_join(weights, by = \"series_id\") %>%\n",
    "  group_by(series_id) %>%\n",
    "  summarise(\n",
    "    rmse = sqrt(mean(scaled_error^2, na.rm = TRUE)),\n",
    "    weighted_rmse = rmse * first(weight)\n",
    "  ) %>%\n",
    "  summarise(\n",
    "    WRMSSE = sum(weighted_rmse, na.rm = TRUE)\n",
    "  ) %>%\n",
    "  pull(WRMSSE)\n",
    "\n",
    "print(paste(\"Final WRMSSE:\", round(wrmsse, 4)))"
   ]
  },
  {
   "cell_type": "code",
   "execution_count": null,
   "id": "d9d9b9ad-2f20-4810-a257-c7ffc4b7d975",
   "metadata": {},
   "outputs": [],
   "source": []
  }
 ],
 "metadata": {
  "kernelspec": {
   "display_name": "R",
   "language": "R",
   "name": "ir"
  },
  "language_info": {
   "codemirror_mode": "r",
   "file_extension": ".r",
   "mimetype": "text/x-r-source",
   "name": "R",
   "pygments_lexer": "r",
   "version": "4.4.2"
  }
 },
 "nbformat": 4,
 "nbformat_minor": 5
}
